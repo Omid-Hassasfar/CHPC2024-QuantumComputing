{
  "cells": [
    {
      "cell_type": "markdown",
      "metadata": {
        "id": "view-in-github",
        "colab_type": "text"
      },
      "source": [
        "<a href=\"https://colab.research.google.com/github/Omid-Hassasfar/CHPC2024-QuantumComputing/blob/main/CHPC2024_QC_Qiskit_Intro.ipynb\" target=\"_parent\"><img src=\"https://colab.research.google.com/assets/colab-badge.svg\" alt=\"Open In Colab\"/></a>"
      ]
    },
    {
      "cell_type": "markdown",
      "source": [
        "## Installation"
      ],
      "metadata": {
        "id": "o9s6N4pNT5NC"
      }
    },
    {
      "cell_type": "code",
      "execution_count": null,
      "metadata": {
        "id": "lBgzOpvsLWft",
        "colab": {
          "base_uri": "https://localhost:8080/"
        },
        "outputId": "93b689f9-b85c-4c2d-864f-7e6536aa3fe2"
      },
      "outputs": [
        {
          "output_type": "stream",
          "name": "stdout",
          "text": [
            "\u001b[?25l     \u001b[90m━━━━━━━━━━━━━━━━━━━━━━━━━━━━━━━━━━━━━━━━\u001b[0m \u001b[32m0.0/162.6 kB\u001b[0m \u001b[31m?\u001b[0m eta \u001b[36m-:--:--\u001b[0m\r\u001b[2K     \u001b[91m━━━━━━━━━━━━━━━━━━━━━━━━━━━━━━━━━━━━━\u001b[0m\u001b[91m╸\u001b[0m\u001b[90m━━\u001b[0m \u001b[32m153.6/162.6 kB\u001b[0m \u001b[31m5.2 MB/s\u001b[0m eta \u001b[36m0:00:01\u001b[0m\r\u001b[2K     \u001b[90m━━━━━━━━━━━━━━━━━━━━━━━━━━━━━━━━━━━━━━━━\u001b[0m \u001b[32m162.6/162.6 kB\u001b[0m \u001b[31m3.5 MB/s\u001b[0m eta \u001b[36m0:00:00\u001b[0m\n",
            "\u001b[?25h  Preparing metadata (setup.py) ... \u001b[?25l\u001b[?25hdone\n",
            "\u001b[2K   \u001b[90m━━━━━━━━━━━━━━━━━━━━━━━━━━━━━━━━━━━━━━━━\u001b[0m \u001b[32m119.4/119.4 kB\u001b[0m \u001b[31m6.0 MB/s\u001b[0m eta \u001b[36m0:00:00\u001b[0m\n",
            "\u001b[2K   \u001b[90m━━━━━━━━━━━━━━━━━━━━━━━━━━━━━━━━━━━━━━━━\u001b[0m \u001b[32m2.0/2.0 MB\u001b[0m \u001b[31m19.2 MB/s\u001b[0m eta \u001b[36m0:00:00\u001b[0m\n",
            "\u001b[2K   \u001b[90m━━━━━━━━━━━━━━━━━━━━━━━━━━━━━━━━━━━━━━━━\u001b[0m \u001b[32m49.7/49.7 kB\u001b[0m \u001b[31m1.9 MB/s\u001b[0m eta \u001b[36m0:00:00\u001b[0m\n",
            "\u001b[2K   \u001b[90m━━━━━━━━━━━━━━━━━━━━━━━━━━━━━━━━━━━━━━━━\u001b[0m \u001b[32m49.7/49.7 MB\u001b[0m \u001b[31m11.1 MB/s\u001b[0m eta \u001b[36m0:00:00\u001b[0m\n",
            "\u001b[2K   \u001b[90m━━━━━━━━━━━━━━━━━━━━━━━━━━━━━━━━━━━━━━━━\u001b[0m \u001b[32m4.8/4.8 MB\u001b[0m \u001b[31m19.6 MB/s\u001b[0m eta \u001b[36m0:00:00\u001b[0m\n",
            "\u001b[2K   \u001b[90m━━━━━━━━━━━━━━━━━━━━━━━━━━━━━━━━━━━━━━━━\u001b[0m \u001b[32m108.5/108.5 kB\u001b[0m \u001b[31m3.9 MB/s\u001b[0m eta \u001b[36m0:00:00\u001b[0m\n",
            "\u001b[?25h  Building wheel for pylatexenc (setup.py) ... \u001b[?25l\u001b[?25hdone\n",
            "\u001b[2K   \u001b[90m━━━━━━━━━━━━━━━━━━━━━━━━━━━━━━━━━━━━━━━━\u001b[0m \u001b[32m2.9/2.9 MB\u001b[0m \u001b[31m26.0 MB/s\u001b[0m eta \u001b[36m0:00:00\u001b[0m\n",
            "\u001b[2K   \u001b[90m━━━━━━━━━━━━━━━━━━━━━━━━━━━━━━━━━━━━━━━━\u001b[0m \u001b[32m340.8/340.8 kB\u001b[0m \u001b[31m26.6 MB/s\u001b[0m eta \u001b[36m0:00:00\u001b[0m\n",
            "\u001b[2K   \u001b[90m━━━━━━━━━━━━━━━━━━━━━━━━━━━━━━━━━━━━━━━━\u001b[0m \u001b[32m69.4/69.4 kB\u001b[0m \u001b[31m6.5 MB/s\u001b[0m eta \u001b[36m0:00:00\u001b[0m\n",
            "\u001b[2K   \u001b[90m━━━━━━━━━━━━━━━━━━━━━━━━━━━━━━━━━━━━━━━━\u001b[0m \u001b[32m130.5/130.5 kB\u001b[0m \u001b[31m10.4 MB/s\u001b[0m eta \u001b[36m0:00:00\u001b[0m\n",
            "\u001b[2K   \u001b[90m━━━━━━━━━━━━━━━━━━━━━━━━━━━━━━━━━━━━━━━━\u001b[0m \u001b[32m12.3/12.3 MB\u001b[0m \u001b[31m80.4 MB/s\u001b[0m eta \u001b[36m0:00:00\u001b[0m\n",
            "\u001b[?25h"
          ]
        }
      ],
      "source": [
        "!pip install qiskit[visualization]  --quiet  # Install Qiskit with visualization support\n",
        "!pip install qiskit-ibm-runtime  --quiet     # Install Qiskit IBM Runtime for accessing IBM Quantum services\n",
        "!pip install qiskit-aer  --quiet             # Install Qiskit Aer for high-performance quantum simulations"
      ]
    },
    {
      "cell_type": "markdown",
      "source": [
        "## Importing Packages!"
      ],
      "metadata": {
        "id": "L736cmGoDNFS"
      }
    },
    {
      "cell_type": "code",
      "source": [
        "import matplotlib.pyplot as plt\n",
        "import numpy as np\n",
        "import scipy as sp\n",
        "import sympy as sy\n",
        "\n",
        "import qiskit\n",
        "import qiskit_ibm_runtime\n",
        "import qiskit_aer\n",
        "import matplotlib\n",
        "\n",
        "print(f'Qiskit: {qiskit.__version__}')\n",
        "print(f'Qiskit Aer: {qiskit_aer.__version__}')\n",
        "print(f'Qiskit IBM Runtime: {qiskit_ibm_runtime.__version__}')\n",
        "print()\n",
        "print(\"Numpy version:\", np.__version__)\n",
        "print(\"Scipy version:\", sp.__version__)\n",
        "print(\"Sympy version:\", sy.__version__)\n",
        "print(\"Matplotlib version:\", matplotlib.__version__)\n",
        "print()\n",
        "!python --version"
      ],
      "metadata": {
        "colab": {
          "base_uri": "https://localhost:8080/"
        },
        "id": "wn_84pyNCO-k",
        "outputId": "443d6f5a-d140-499e-9ffb-577bfdb86539"
      },
      "execution_count": null,
      "outputs": [
        {
          "output_type": "stream",
          "name": "stdout",
          "text": [
            "Qiskit: 1.2.4\n",
            "Qiskit Aer: 0.15.1\n",
            "Qiskit IBM Runtime: 0.33.2\n",
            "\n",
            "Numpy version: 1.26.4\n",
            "Scipy version: 1.13.1\n",
            "Sympy version: 1.13.1\n",
            "Matplotlib version: 3.8.0\n",
            "\n",
            "Python 3.10.12\n"
          ]
        }
      ]
    },
    {
      "cell_type": "code",
      "source": [
        "from qiskit import QuantumCircuit, QuantumRegister, ClassicalRegister, transpile\n",
        "\n",
        "from qiskit.result import marginal_distribution\n",
        "\n",
        "from qiskit.providers.basic_provider import BasicProvider\n",
        "\n",
        "from qiskit.visualization import plot_histogram, plot_bloch_vector, plot_bloch_multivector, plot_state_qsphere, plot_state_city\n",
        "\n",
        "from qiskit.quantum_info import Statevector, Operator, SparsePauliOp, concurrence\n",
        "\n",
        "from qiskit.circuit.library import PauliEvolutionGate, UGate, QFT\n",
        "\n",
        "from qiskit_aer import AerSimulator, StatevectorSimulator, UnitarySimulator\n",
        "\n",
        "from math import pi, cos, sin\n",
        "\n",
        "from random import randrange"
      ],
      "metadata": {
        "id": "nLcdyisaH0QC"
      },
      "execution_count": null,
      "outputs": []
    },
    {
      "cell_type": "markdown",
      "source": [
        "Physical implementations of Qubits :\n",
        "https://en.wikipedia.org/wiki/Qubit#Physical_implementations"
      ],
      "metadata": {
        "id": "zDyZFYkngFkX"
      }
    },
    {
      "cell_type": "markdown",
      "source": [
        "## Simple example with BasicProvider: Python-based Simulators\n",
        "these are ideal simulators, meaning they do not include noise or errors in their simulation. These simulators are useful for quick testing and validation of quantum circuits without the complexities of real-world quantum device noise.\n"
      ],
      "metadata": {
        "id": "nIXciSW-TsBJ"
      }
    },
    {
      "cell_type": "code",
      "source": [
        "backend = BasicProvider().get_backend('basic_simulator')"
      ],
      "metadata": {
        "id": "jkbMYIpZH0R-"
      },
      "execution_count": null,
      "outputs": []
    },
    {
      "cell_type": "code",
      "source": [
        "# Create a Quantum Circuit with 1 qubit and 1 classical bit\n",
        "qr = QuantumRegister(1, 'q0')\n",
        "cr = ClassicalRegister(1, 'c0')\n",
        "qc = QuantumCircuit(qr, cr)\n",
        "\n",
        "# Add a Hadamard gate on qubit 0\n",
        "qc.h(0)\n",
        "\n",
        "# Measure qubit 0 to classical bit 0\n",
        "qc.measure(0, 0)\n",
        "\n",
        "# Transpile the circuit for the backend\n",
        "qc_tr = transpile(qc, backend)\n",
        "\n",
        "# Execute the circuit on the basic simulator backend\n",
        "job = backend.run(qc_tr, shots = 1024)\n",
        "\n",
        "# Get the result\n",
        "result = job.result()\n",
        "qc.draw()"
      ],
      "metadata": {
        "id": "qzLBcUTvH0UH",
        "colab": {
          "base_uri": "https://localhost:8080/",
          "height": 94
        },
        "outputId": "00835c15-02c0-4ed1-f73d-d44fe3607177"
      },
      "execution_count": null,
      "outputs": [
        {
          "output_type": "execute_result",
          "data": {
            "text/plain": [
              "      ┌───┐┌─┐\n",
              "  q0: ┤ H ├┤M├\n",
              "      └───┘└╥┘\n",
              "c0: 1/══════╩═\n",
              "            0 "
            ],
            "text/html": [
              "<pre style=\"word-wrap: normal;white-space: pre;background: #fff0;line-height: 1.1;font-family: &quot;Courier New&quot;,Courier,monospace\">      ┌───┐┌─┐\n",
              "  q0: ┤ H ├┤M├\n",
              "      └───┘└╥┘\n",
              "c0: 1/══════╩═\n",
              "            0 </pre>"
            ]
          },
          "metadata": {},
          "execution_count": 8
        }
      ]
    },
    {
      "cell_type": "code",
      "source": [
        "qc.draw('mpl')"
      ],
      "metadata": {
        "colab": {
          "base_uri": "https://localhost:8080/",
          "height": 191
        },
        "id": "ocwvFzEXwGxT",
        "outputId": "f6bfacd7-afb5-4c46-dcce-4156e9f25213"
      },
      "execution_count": null,
      "outputs": [
        {
          "output_type": "execute_result",
          "data": {
            "text/plain": [
              "<Figure size 287.093x200.667 with 1 Axes>"
            ],
            "image/png": "[encoded data removed]"
          },
          "metadata": {},
          "execution_count": 9
        }
      ]
    },
    {
      "cell_type": "code",
      "source": [
        "# Draw the transpiled circuit + change the style\n",
        "qc_tr.draw('mpl', style = 'iqp-dark')"
      ],
      "metadata": {
        "colab": {
          "base_uri": "https://localhost:8080/",
          "height": 191
        },
        "id": "qq9iQvfTZp60",
        "outputId": "eb33dc06-1069-4341-b32f-1c42046b533e"
      },
      "execution_count": null,
      "outputs": [
        {
          "output_type": "execute_result",
          "data": {
            "text/plain": [
              "<Figure size 287.093x200.667 with 1 Axes>"
            ],
            "image/png": "[encoded data removed]"
          },
          "metadata": {},
          "execution_count": 10
        }
      ]
    },
    {
      "cell_type": "code",
      "source": [
        "# Get the counts (number of times each outcome was measured)\n",
        "counts = result.get_counts(qc_tr)\n",
        "counts"
      ],
      "metadata": {
        "id": "xsNkuTfYDNML",
        "colab": {
          "base_uri": "https://localhost:8080/"
        },
        "outputId": "f15bb211-17cd-48ac-8fcc-895fc157ed6b"
      },
      "execution_count": null,
      "outputs": [
        {
          "output_type": "execute_result",
          "data": {
            "text/plain": [
              "{'0': 529, '1': 495}"
            ]
          },
          "metadata": {},
          "execution_count": 11
        }
      ]
    },
    {
      "cell_type": "code",
      "source": [
        "# Plot the histogram of results\n",
        "plot_histogram(counts)"
      ],
      "metadata": {
        "colab": {
          "base_uri": "https://localhost:8080/",
          "height": 429
        },
        "id": "rM5jb35PTOSN",
        "outputId": "283edbf5-1120-42c4-f5c7-f3209448eef1"
      },
      "execution_count": null,
      "outputs": [
        {
          "output_type": "execute_result",
          "data": {
            "text/plain": [
              "<Figure size 640x480 with 1 Axes>"
            ],
            "image/png": "[encoded data removed]"
          },
          "metadata": {},
          "execution_count": 12
        }
      ]
    },
    {
      "cell_type": "markdown",
      "source": [
        "### Another example with 2 qubit with BasicProvider: Python-based Simulators"
      ],
      "metadata": {
        "id": "EiejY7D_VSht"
      }
    },
    {
      "cell_type": "code",
      "source": [
        "# Create a Quantum Register with 2 qubits and a Classical Register with 2 bits\n",
        "qr2 = QuantumRegister(2, 'q')\n",
        "cr2 = ClassicalRegister(2, 'c')\n",
        "qc2 = QuantumCircuit(qr2, cr2)\n",
        "\n",
        "# Apply a Hadamard gate to qubit 0\n",
        "qc2.h(0)\n",
        "\n",
        "qc2.x(0)\n",
        "qc2.x(1)\n",
        "\n",
        "# Apply a CNOT gate to qubit 1 controlled by qubit 0 (creates entanglement)\n",
        "qc2.cx(0, 1)\n",
        "\n",
        "# Measure the qubits\n",
        "qc2.measure([0, 1], [0, 1])\n",
        "\n",
        "# Transpile the circuit for the backend\n",
        "qc2_tr = transpile(qc2, backend)\n",
        "\n",
        "# Execute the circuit on the basic simulator backend with different shots\n",
        "job2 = backend.run(qc2_tr, shots=2048)\n",
        "\n",
        "# Get the result\n",
        "result2 = job2.result()\n",
        "\n",
        "# Draw the circuit\n",
        "qc2.draw('mpl')"
      ],
      "metadata": {
        "colab": {
          "base_uri": "https://localhost:8080/",
          "height": 255
        },
        "id": "WXior4VDUagi",
        "outputId": "23bbfcea-96d2-47ff-b37d-a9b8f1d7827c"
      },
      "execution_count": null,
      "outputs": [
        {
          "output_type": "execute_result",
          "data": {
            "text/plain": [
              "<Figure size 538.128x284.278 with 1 Axes>"
            ],
            "image/png": "[encoded data removed]"
          },
          "metadata": {},
          "execution_count": 13
        }
      ]
    },
    {
      "cell_type": "code",
      "source": [
        "# Draw the  transpiled circuit\n",
        "qc2_tr.draw('mpl')"
      ],
      "metadata": {
        "colab": {
          "base_uri": "https://localhost:8080/",
          "height": 255
        },
        "id": "a_dbJUZvaqO2",
        "outputId": "cb943360-0593-486b-f1fa-e6220a08b36b"
      },
      "execution_count": null,
      "outputs": [
        {
          "output_type": "execute_result",
          "data": {
            "text/plain": [
              "<Figure size 454.517x284.278 with 1 Axes>"
            ],
            "image/png": "[encoded data removed]"
          },
          "metadata": {},
          "execution_count": 14
        }
      ]
    },
    {
      "cell_type": "markdown",
      "source": [
        "https://github.com/Omid-Hassasfar/qiskit-tutorial-Archive/blob/master/tutorials/circuits/3_summary_of_quantum_operations.ipynb\n",
        "\n",
        "https://docs.quantum.ibm.com/api/qiskit/circuit_library\n",
        "\n",
        "https://docs.quantum.ibm.com/api/qiskit/qiskit.circuit.library.UGate\n",
        "\n",
        "https://docs.quantum.ibm.com/api/qiskit/qiskit.circuit.library.U1Gate\n",
        "\n",
        "https://docs.quantum.ibm.com/api/qiskit/qiskit.circuit.library.U2Gate\n",
        "\n",
        "https://docs.quantum.ibm.com/api/qiskit/qiskit.circuit.library.U3Gate\n",
        "\n",
        "https://learning.quantum.ibm.com/tutorial/explore-gates-and-circuits-with-the-quantum-composer"
      ],
      "metadata": {
        "id": "crIcRMDfcvBw"
      }
    },
    {
      "cell_type": "code",
      "source": [
        "# Get the counts (number of times each outcome was measured)\n",
        "counts2 = result2.get_counts(qc2_tr)\n",
        "counts2"
      ],
      "metadata": {
        "colab": {
          "base_uri": "https://localhost:8080/"
        },
        "id": "v2IoEexkrnR2",
        "outputId": "7a898320-c086-491e-f461-fbd1b6f0fc84"
      },
      "execution_count": null,
      "outputs": [
        {
          "output_type": "execute_result",
          "data": {
            "text/plain": [
              "{'10': 1022, '01': 1026}"
            ]
          },
          "metadata": {},
          "execution_count": 15
        }
      ]
    },
    {
      "cell_type": "code",
      "source": [
        "# Plot the histogram of results\n",
        "plot_histogram(counts2)"
      ],
      "metadata": {
        "colab": {
          "base_uri": "https://localhost:8080/",
          "height": 437
        },
        "id": "Jg5hCpK3rnYL",
        "outputId": "a7e9c209-693c-47ff-c21d-b3316415170c"
      },
      "execution_count": null,
      "outputs": [
        {
          "output_type": "execute_result",
          "data": {
            "text/plain": [
              "<Figure size 640x480 with 1 Axes>"
            ],
            "image/png": "[encoded data removed]"
          },
          "metadata": {},
          "execution_count": 16
        }
      ]
    },
    {
      "cell_type": "markdown",
      "source": [
        "### How to check Quantum Circuit Properties"
      ],
      "metadata": {
        "id": "aZvVGXWG4gsK"
      }
    },
    {
      "cell_type": "code",
      "source": [
        "qr5 = QuantumRegister(4, 'q5')\n",
        "cr5 = ClassicalRegister(4, 'c5')\n",
        "qc5 = QuantumCircuit(qr5,cr5)\n",
        "\n",
        "qc5.h(0)\n",
        "qc5.x(1)\n",
        "qc5.z(2)\n",
        "qc5.y(3)\n",
        "qc5.sdg(1)\n",
        "qc5.sdg(3)\n",
        "qc5.t(0)\n",
        "qc5.tdg(1)\n",
        "qc5.u(0, np.pi, np.pi, 0)\n",
        "qc5.u(np.pi, np.pi/2, np.pi, 1)\n",
        "qc5.u(np.pi, np.pi, np.pi/3, 2  )\n",
        "qc5.u(np.pi, 0, np.pi, 3)\n",
        "qc5.h(qr5[0:4])\n",
        "\n",
        "qc5.barrier()\n",
        "qc5.cx(0, 1)\n",
        "qc5.swap(1, 2)\n",
        "\n",
        "qc5.barrier()\n",
        "qc5.cswap(0, 1, 3)\n",
        "qc5.ccx(0, 1, 2)\n",
        "qc5.ccz(0, 1, 3)\n",
        "qc5.mcx([0,1,3],2)  # The multi-cX gate\n",
        "\n",
        "# Measure the qubits\n",
        "qc5.measure([0, 1, 2, 3], [0, 1, 2, 3])\n",
        "\n",
        "qc5.draw('mpl')"
      ],
      "metadata": {
        "colab": {
          "base_uri": "https://localhost:8080/",
          "height": 384
        },
        "id": "1vt0daituV9X",
        "outputId": "b30184f5-2a24-4eae-dd22-62f71cd98c9c"
      },
      "execution_count": null,
      "outputs": [
        {
          "output_type": "execute_result",
          "data": {
            "text/plain": [
              "<Figure size 1560.1x451.5 with 1 Axes>"
            ],
            "image/png": "[encoded data removed]"
          },
          "metadata": {},
          "execution_count": 17
        }
      ]
    },
    {
      "cell_type": "code",
      "source": [
        "qc5.num_qubits"
      ],
      "metadata": {
        "colab": {
          "base_uri": "https://localhost:8080/"
        },
        "id": "QAVzAeLE5X4A",
        "outputId": "5666e9c0-bc01-44f3-bf4a-e0cabc838b4c"
      },
      "execution_count": null,
      "outputs": [
        {
          "output_type": "execute_result",
          "data": {
            "text/plain": [
              "4"
            ]
          },
          "metadata": {},
          "execution_count": 18
        }
      ]
    },
    {
      "cell_type": "code",
      "source": [
        "qc5.width()  # Returns the sum of qubits wires and classical wires in a circuit"
      ],
      "metadata": {
        "colab": {
          "base_uri": "https://localhost:8080/"
        },
        "id": "dbQpDS0q5X63",
        "outputId": "15ce374c-1e4f-430a-cd95-3894b768692d"
      },
      "execution_count": null,
      "outputs": [
        {
          "output_type": "execute_result",
          "data": {
            "text/plain": [
              "8"
            ]
          },
          "metadata": {},
          "execution_count": 19
        }
      ]
    },
    {
      "cell_type": "code",
      "source": [
        "qc5.size() # Returns the total number of gate operations in a circuit ( raw count of operations)"
      ],
      "metadata": {
        "colab": {
          "base_uri": "https://localhost:8080/"
        },
        "id": "IkZqPZfY6S8l",
        "outputId": "43ea89d7-21ca-484d-afe2-70138cae3019"
      },
      "execution_count": null,
      "outputs": [
        {
          "output_type": "execute_result",
          "data": {
            "text/plain": [
              "26"
            ]
          },
          "metadata": {},
          "execution_count": 20
        }
      ]
    },
    {
      "cell_type": "code",
      "source": [
        "qc5.count_ops() # This will print the number of single qubit gates and two qubit gates"
      ],
      "metadata": {
        "colab": {
          "base_uri": "https://localhost:8080/"
        },
        "id": "p8T8uPq26S_F",
        "outputId": "1405a1b7-570c-4470-caa7-48f7ada7c383"
      },
      "execution_count": null,
      "outputs": [
        {
          "output_type": "execute_result",
          "data": {
            "text/plain": [
              "OrderedDict([('h', 5),\n",
              "             ('u', 4),\n",
              "             ('measure', 4),\n",
              "             ('sdg', 2),\n",
              "             ('barrier', 2),\n",
              "             ('x', 1),\n",
              "             ('z', 1),\n",
              "             ('y', 1),\n",
              "             ('t', 1),\n",
              "             ('tdg', 1),\n",
              "             ('cx', 1),\n",
              "             ('swap', 1),\n",
              "             ('cswap', 1),\n",
              "             ('ccx', 1),\n",
              "             ('ccz', 1),\n",
              "             ('mcx', 1)])"
            ]
          },
          "metadata": {},
          "execution_count": 21
        }
      ]
    },
    {
      "cell_type": "markdown",
      "source": [
        "The *depth* of a quantum circuit is a measure of how many “layers” of quantum gates, executed in parallel, it takes to complete the computation defined by the circuit.\n",
        "\n",
        "https://docs.quantum.ibm.com/api/qiskit/1.0/circuit#quantum-circuit-api"
      ],
      "metadata": {
        "id": "3E4cieY87fZH"
      }
    },
    {
      "cell_type": "code",
      "source": [
        "qc5.depth() # Returns the depth (critical path) of a circuit if directives such as barrier were removed"
      ],
      "metadata": {
        "colab": {
          "base_uri": "https://localhost:8080/"
        },
        "id": "WoYu6zHV6TBM",
        "outputId": "ed38df2d-35e9-456a-82e8-13c8877d97ab"
      },
      "execution_count": null,
      "outputs": [
        {
          "output_type": "execute_result",
          "data": {
            "text/plain": [
              "12"
            ]
          },
          "metadata": {},
          "execution_count": 22
        }
      ]
    },
    {
      "cell_type": "code",
      "source": [
        "qc5.num_nonlocal_gates()"
      ],
      "metadata": {
        "colab": {
          "base_uri": "https://localhost:8080/"
        },
        "id": "L908X0wI6TGG",
        "outputId": "473f870d-cdb4-446b-ac23-5b43060292dc"
      },
      "execution_count": null,
      "outputs": [
        {
          "output_type": "execute_result",
          "data": {
            "text/plain": [
              "6"
            ]
          },
          "metadata": {},
          "execution_count": 23
        }
      ]
    },
    {
      "cell_type": "markdown",
      "source": [
        "## Statevector class from the quantum_info module in Qiskit\n",
        "\n",
        "This type of simulation is ideal (i.e., without noise) and is particularly useful for understanding the theoretical behavior of quantum circuits\n",
        "\n",
        "The statevector is a complex vector that encodes the amplitudes of all possible quantum states, providing a full representation of the quantum system's state."
      ],
      "metadata": {
        "id": "CmgUSedksKCP"
      }
    },
    {
      "cell_type": "code",
      "source": [
        "Phi_P = QuantumCircuit(2)\n",
        "Phi_P.h(0)\n",
        "Phi_P.cx(0, 1)\n",
        "# Phi_p.measure_all()\n",
        "Phi_P.draw('mpl')"
      ],
      "metadata": {
        "colab": {
          "base_uri": "https://localhost:8080/",
          "height": 191
        },
        "id": "QhByiX-UUai5",
        "outputId": "d9c85db0-7991-41ad-ef8f-9281a066b153"
      },
      "execution_count": null,
      "outputs": [
        {
          "output_type": "execute_result",
          "data": {
            "text/plain": [
              "<Figure size 287.294x200.667 with 1 Axes>"
            ],
            "image/png": "[encoded data removed]"
          },
          "metadata": {},
          "execution_count": 24
        }
      ]
    },
    {
      "cell_type": "code",
      "source": [
        "Statevector(Phi_P)"
      ],
      "metadata": {
        "colab": {
          "base_uri": "https://localhost:8080/"
        },
        "id": "ZXrzpF8KUalI",
        "outputId": "038a12c5-4ed3-45cb-f9b2-2b674ad2db88"
      },
      "execution_count": null,
      "outputs": [
        {
          "output_type": "stream",
          "name": "stdout",
          "text": [
            "Statevector([0.70710678+0.j, 0.        +0.j, 0.        +0.j,\n",
            "             0.70710678+0.j],\n",
            "            dims=(2, 2))\n"
          ]
        }
      ]
    },
    {
      "cell_type": "code",
      "source": [
        "sy.Matrix(Statevector(Phi_P))"
      ],
      "metadata": {
        "colab": {
          "base_uri": "https://localhost:8080/",
          "height": 98
        },
        "id": "uR53UBVyoJCD",
        "outputId": "d23da261-a589-4de7-b395-7cb3643e37f1"
      },
      "execution_count": null,
      "outputs": [
        {
          "output_type": "execute_result",
          "data": {
            "text/plain": [
              "Matrix([\n",
              "[0.707106781186547],\n",
              "[                0],\n",
              "[                0],\n",
              "[0.707106781186547]])"
            ],
            "text/latex": "$\\displaystyle \\left[\\begin{matrix}0.707106781186547\\\\0\\\\0\\\\0.707106781186547\\end{matrix}\\right]$"
          },
          "metadata": {},
          "execution_count": 26
        }
      ]
    },
    {
      "cell_type": "code",
      "source": [
        "Statevector(Phi_P).draw('latex')"
      ],
      "metadata": {
        "colab": {
          "base_uri": "https://localhost:8080/",
          "height": 40
        },
        "id": "xIWqmXEgsyjy",
        "outputId": "5691e836-0faa-4dc7-968e-11704ae6c516"
      },
      "execution_count": null,
      "outputs": [
        {
          "output_type": "execute_result",
          "data": {
            "text/plain": [
              "<IPython.core.display.Latex object>"
            ],
            "text/latex": "$$\\frac{\\sqrt{2}}{2} |00\\rangle+\\frac{\\sqrt{2}}{2} |11\\rangle$$"
          },
          "metadata": {},
          "execution_count": 27
        }
      ]
    },
    {
      "cell_type": "code",
      "source": [
        "Phi_M = QuantumCircuit(2)\n",
        "Phi_M.x(0)\n",
        "Phi_M.h(0)\n",
        "Phi_M.cx(0, 1)\n",
        "display(Phi_M.draw('mpl'))\n",
        "Statevector(Phi_M).draw('latex')"
      ],
      "metadata": {
        "colab": {
          "base_uri": "https://localhost:8080/",
          "height": 214
        },
        "id": "EAWrJfqPyQnR",
        "outputId": "2fde1041-40d5-436c-e58d-3f5964f0f9a2"
      },
      "execution_count": null,
      "outputs": [
        {
          "output_type": "display_data",
          "data": {
            "text/plain": [
              "<Figure size 370.906x200.667 with 1 Axes>"
            ],
            "image/png": "[encoded data removed]"
          },
          "metadata": {}
        },
        {
          "output_type": "execute_result",
          "data": {
            "text/plain": [
              "<IPython.core.display.Latex object>"
            ],
            "text/latex": "$$\\frac{\\sqrt{2}}{2} |00\\rangle- \\frac{\\sqrt{2}}{2} |11\\rangle$$"
          },
          "metadata": {},
          "execution_count": 28
        }
      ]
    },
    {
      "cell_type": "code",
      "source": [
        "Psi_P = QuantumCircuit(2)\n",
        "Psi_P.x(1)\n",
        "Psi_P.h(0)\n",
        "Psi_P.cx(0, 1)\n",
        "display(Psi_P.draw('mpl'))\n",
        "Statevector(Psi_P).draw('latex')"
      ],
      "metadata": {
        "colab": {
          "base_uri": "https://localhost:8080/",
          "height": 214
        },
        "id": "tNtB741230Gw",
        "outputId": "b23b1cc4-ca2f-4faa-e584-8c2e59b7e36f"
      },
      "execution_count": null,
      "outputs": [
        {
          "output_type": "display_data",
          "data": {
            "text/plain": [
              "<Figure size 287.294x200.667 with 1 Axes>"
            ],
            "image/png": "[encoded data removed]"
          },
          "metadata": {}
        },
        {
          "output_type": "execute_result",
          "data": {
            "text/plain": [
              "<IPython.core.display.Latex object>"
            ],
            "text/latex": "$$\\frac{\\sqrt{2}}{2} |01\\rangle+\\frac{\\sqrt{2}}{2} |10\\rangle$$"
          },
          "metadata": {},
          "execution_count": 29
        }
      ]
    },
    {
      "cell_type": "code",
      "source": [
        "Psi_M = QuantumCircuit(2)\n",
        "Psi_M.x(1)\n",
        "Psi_M.x(0)\n",
        "Psi_M.h(0)\n",
        "Psi_M.cx(0, 1)\n",
        "display(Psi_M.draw('mpl'))\n",
        "Statevector(Psi_M).draw('latex')"
      ],
      "metadata": {
        "colab": {
          "base_uri": "https://localhost:8080/",
          "height": 214
        },
        "id": "9qCtXIPU30KL",
        "outputId": "facf5205-9c90-47da-9006-3eb7637d636f"
      },
      "execution_count": null,
      "outputs": [
        {
          "output_type": "display_data",
          "data": {
            "text/plain": [
              "<Figure size 370.906x200.667 with 1 Axes>"
            ],
            "image/png": "[encoded data removed]"
          },
          "metadata": {}
        },
        {
          "output_type": "execute_result",
          "data": {
            "text/plain": [
              "<IPython.core.display.Latex object>"
            ],
            "text/latex": "$$- \\frac{\\sqrt{2}}{2} |01\\rangle+\\frac{\\sqrt{2}}{2} |10\\rangle$$"
          },
          "metadata": {},
          "execution_count": 30
        }
      ]
    },
    {
      "cell_type": "code",
      "source": [
        "# # Get the statevector and multiply by -1\n",
        "# Psi_M = -1 * Statevector(Psi_M)\n",
        "\n",
        "# # Display the modified statevector in LaTeX format\n",
        "# Psi_M.draw('latex')"
      ],
      "metadata": {
        "id": "ChUey53v4qz4"
      },
      "execution_count": null,
      "outputs": []
    },
    {
      "cell_type": "markdown",
      "source": [
        "**Bell states**:\n",
        "https://en.wikipedia.org/wiki/Bell_state"
      ],
      "metadata": {
        "id": "foU4VO6N5PeT"
      }
    },
    {
      "cell_type": "code",
      "source": [
        "Phi_M2 = QuantumCircuit(2)\n",
        "\n",
        "Phi_M2.h(0)\n",
        "Phi_M2.cx(0, 1)\n",
        "Phi_M2.z(1)\n",
        "\n",
        "# Display the circuit\n",
        "display(Phi_M2.draw('mpl'))\n",
        "# Display the statevector in LaTeX\n",
        "Statevector(Phi_M2).draw('latex')"
      ],
      "metadata": {
        "colab": {
          "base_uri": "https://localhost:8080/",
          "height": 214
        },
        "id": "nDY28hjMmnWQ",
        "outputId": "a0c7d7a7-b0ab-4a63-f8ec-a39ed7f5beed"
      },
      "execution_count": null,
      "outputs": [
        {
          "output_type": "display_data",
          "data": {
            "text/plain": [
              "<Figure size 370.906x200.667 with 1 Axes>"
            ],
            "image/png": "[encoded data removed]"
          },
          "metadata": {}
        },
        {
          "output_type": "execute_result",
          "data": {
            "text/plain": [
              "<IPython.core.display.Latex object>"
            ],
            "text/latex": "$$\\frac{\\sqrt{2}}{2} |00\\rangle- \\frac{\\sqrt{2}}{2} |11\\rangle$$"
          },
          "metadata": {},
          "execution_count": 32
        }
      ]
    },
    {
      "cell_type": "code",
      "source": [
        "Psi_P2 = QuantumCircuit(2)\n",
        "\n",
        "Psi_P2.h(0)\n",
        "Psi_P2.cx(0, 1)\n",
        "Psi_P2.x(1)\n",
        "\n",
        "# Display the circuit\n",
        "display(Psi_P2.draw('mpl'))\n",
        "# Display the statevector in LaTeX\n",
        "Statevector(Psi_P2).draw('latex')"
      ],
      "metadata": {
        "colab": {
          "base_uri": "https://localhost:8080/",
          "height": 214
        },
        "id": "LTut1t2vnbVd",
        "outputId": "a2abf790-c0af-41ee-8195-30a015b65724"
      },
      "execution_count": null,
      "outputs": [
        {
          "output_type": "display_data",
          "data": {
            "text/plain": [
              "<Figure size 370.906x200.667 with 1 Axes>"
            ],
            "image/png": "[encoded data removed]"
          },
          "metadata": {}
        },
        {
          "output_type": "execute_result",
          "data": {
            "text/plain": [
              "<IPython.core.display.Latex object>"
            ],
            "text/latex": "$$\\frac{\\sqrt{2}}{2} |01\\rangle+\\frac{\\sqrt{2}}{2} |10\\rangle$$"
          },
          "metadata": {},
          "execution_count": 33
        }
      ]
    },
    {
      "cell_type": "code",
      "source": [
        "Psi_M2 = QuantumCircuit(2)\n",
        "\n",
        "Psi_M2.h(0)\n",
        "Psi_M2.cx(0, 1)\n",
        "Psi_M2.z(1)\n",
        "Psi_M2.x(1)\n",
        "\n",
        "# Display the circuit\n",
        "display(Psi_M2.draw('mpl'))\n",
        "# Display the statevector in LaTeX\n",
        "Statevector(Psi_M2).draw('latex')"
      ],
      "metadata": {
        "colab": {
          "base_uri": "https://localhost:8080/",
          "height": 214
        },
        "id": "D1ApQBf1oexJ",
        "outputId": "e766a2fb-4522-486d-e7ac-cd1388c843ba"
      },
      "execution_count": null,
      "outputs": [
        {
          "output_type": "display_data",
          "data": {
            "text/plain": [
              "<Figure size 454.517x200.667 with 1 Axes>"
            ],
            "image/png": "[encoded data removed]"
          },
          "metadata": {}
        },
        {
          "output_type": "execute_result",
          "data": {
            "text/plain": [
              "<IPython.core.display.Latex object>"
            ],
            "text/latex": "$$- \\frac{\\sqrt{2}}{2} |01\\rangle+\\frac{\\sqrt{2}}{2} |10\\rangle$$"
          },
          "metadata": {},
          "execution_count": 34
        }
      ]
    },
    {
      "cell_type": "markdown",
      "source": [
        "### The concurrence\n",
        "The concurrence as an entanglement measures for a given state is zero iff the state is separable and it is equal to one for the maximal entangled states. It is defined for two-qubit pure and mixed states."
      ],
      "metadata": {
        "id": "xh7D8XKC3UHb"
      }
    },
    {
      "cell_type": "code",
      "source": [
        "qc_max = QuantumCircuit(2)\n",
        "\n",
        "qc_max.h(0)\n",
        "qc_max.cx(0, 1)\n",
        "\n",
        "display(qc_max.draw('mpl'))\n",
        "# Display the resulting statevector in LaTeX format\n",
        "state_max = Statevector(qc_max)\n",
        "display(state_max.draw('latex'))\n",
        "print(\"The concurrence is :\" , concurrence(state_max))"
      ],
      "metadata": {
        "colab": {
          "base_uri": "https://localhost:8080/",
          "height": 232
        },
        "id": "YkSFt9By5oVd",
        "outputId": "f789fcf5-f498-45ba-ccaf-e76d4c3b8a66"
      },
      "execution_count": null,
      "outputs": [
        {
          "output_type": "display_data",
          "data": {
            "text/plain": [
              "<Figure size 287.294x200.667 with 1 Axes>"
            ],
            "image/png": "[encoded data removed]"
          },
          "metadata": {}
        },
        {
          "output_type": "display_data",
          "data": {
            "text/plain": [
              "<IPython.core.display.Latex object>"
            ],
            "text/latex": "$$\\frac{\\sqrt{2}}{2} |00\\rangle+\\frac{\\sqrt{2}}{2} |11\\rangle$$"
          },
          "metadata": {}
        },
        {
          "output_type": "stream",
          "name": "stdout",
          "text": [
            "The concurrence is : 1.0000000000000002\n"
          ]
        }
      ]
    },
    {
      "cell_type": "code",
      "source": [
        "qc_partial = QuantumCircuit(2)\n",
        "qc_partial.h(0)\n",
        "# Apply a controlled-Ry rotation gate with a specific angle\n",
        "theta = np.pi / 4  # Change this angle to adjust the degree of entanglement\n",
        "qc_partial.cry(theta, 0, 1)\n",
        "# Display the quantum circuit\n",
        "display(qc_partial.draw('mpl'))\n",
        "# Display the resulting statevector in LaTeX format\n",
        "state_partial = Statevector(qc_partial)\n",
        "display(state_partial.draw('latex'))\n",
        "print(\"The concurrence is :\" , concurrence(state_partial))"
      ],
      "metadata": {
        "colab": {
          "base_uri": "https://localhost:8080/",
          "height": 232
        },
        "id": "EMoePGb-5sIj",
        "outputId": "e924ac19-7a6d-4a96-f2c9-ad92ff6bd117"
      },
      "execution_count": null,
      "outputs": [
        {
          "output_type": "display_data",
          "data": {
            "text/plain": [
              "<Figure size 287.294x200.667 with 1 Axes>"
            ],
            "image/png": "[encoded data removed]"
          },
          "metadata": {}
        },
        {
          "output_type": "display_data",
          "data": {
            "text/plain": [
              "<IPython.core.display.Latex object>"
            ],
            "text/latex": "$$\\frac{\\sqrt{2}}{2} |00\\rangle+0.6532814824 |01\\rangle+0.2705980501 |11\\rangle$$"
          },
          "metadata": {}
        },
        {
          "output_type": "stream",
          "name": "stdout",
          "text": [
            "The concurrence is : 0.3826834323650913\n"
          ]
        }
      ]
    },
    {
      "cell_type": "code",
      "source": [
        "qc_sep = QuantumCircuit(2)\n",
        "qc_sep.h(0)\n",
        "qc_sep.h(1)\n",
        "# Display the quantum circuit\n",
        "display(qc_sep.draw('mpl'))\n",
        "# Display the resulting statevector in LaTeX format\n",
        "state_sep = Statevector(qc_sep)\n",
        "display(state_sep.draw('latex'))\n",
        "print(\"The concurrence is :\" , round(concurrence(state_sep), 7))"
      ],
      "metadata": {
        "colab": {
          "base_uri": "https://localhost:8080/",
          "height": 229
        },
        "id": "z6StgNkQ8cT1",
        "outputId": "c58547d0-1e4f-41bb-b99c-b4bb6638d5fa"
      },
      "execution_count": null,
      "outputs": [
        {
          "output_type": "display_data",
          "data": {
            "text/plain": [
              "<Figure size 203.683x200.667 with 1 Axes>"
            ],
            "image/png": "[encoded data removed]"
          },
          "metadata": {}
        },
        {
          "output_type": "display_data",
          "data": {
            "text/plain": [
              "<IPython.core.display.Latex object>"
            ],
            "text/latex": "$$\\frac{1}{2} |00\\rangle+\\frac{1}{2} |01\\rangle+\\frac{1}{2} |10\\rangle+\\frac{1}{2} |11\\rangle$$"
          },
          "metadata": {}
        },
        {
          "output_type": "stream",
          "name": "stdout",
          "text": [
            "The concurrence is : 0.0\n"
          ]
        }
      ]
    },
    {
      "cell_type": "markdown",
      "source": [
        "### Arbitrary state vector"
      ],
      "metadata": {
        "id": "PlVSzRmqwV2V"
      }
    },
    {
      "cell_type": "code",
      "source": [
        "sv = Statevector([1/2, 0, 0, -1/2, 1/2, 0, 0, -1/2])\n",
        "sv"
      ],
      "metadata": {
        "colab": {
          "base_uri": "https://localhost:8080/"
        },
        "id": "r__02Zd1twNc",
        "outputId": "ebab70db-f921-4174-d2ff-f39a8d2f33e7"
      },
      "execution_count": null,
      "outputs": [
        {
          "output_type": "stream",
          "name": "stdout",
          "text": [
            "Statevector([ 0.5+0.j,  0. +0.j,  0. +0.j, -0.5+0.j,  0.5+0.j,  0. +0.j,\n",
            "              0. +0.j, -0.5+0.j],\n",
            "            dims=(2, 2, 2))\n"
          ]
        }
      ]
    },
    {
      "cell_type": "code",
      "source": [
        "sv.draw('latex')"
      ],
      "metadata": {
        "colab": {
          "base_uri": "https://localhost:8080/",
          "height": 38
        },
        "id": "e6tRR4pst44v",
        "outputId": "f7e0c09a-da1c-422e-fde3-2beda4003031"
      },
      "execution_count": null,
      "outputs": [
        {
          "output_type": "execute_result",
          "data": {
            "text/plain": [
              "<IPython.core.display.Latex object>"
            ],
            "text/latex": "$$\\frac{1}{2} |000\\rangle- \\frac{1}{2} |011\\rangle+\\frac{1}{2} |100\\rangle- \\frac{1}{2} |111\\rangle$$"
          },
          "metadata": {},
          "execution_count": 39
        }
      ]
    },
    {
      "cell_type": "code",
      "source": [
        "sv.probabilities_dict()"
      ],
      "metadata": {
        "colab": {
          "base_uri": "https://localhost:8080/"
        },
        "id": "UxV9Yt8BuIuF",
        "outputId": "727c94af-f7fa-4632-8190-a2d85708ab16"
      },
      "execution_count": null,
      "outputs": [
        {
          "output_type": "execute_result",
          "data": {
            "text/plain": [
              "{'000': 0.25, '011': 0.25, '100': 0.25, '111': 0.25}"
            ]
          },
          "metadata": {},
          "execution_count": 40
        }
      ]
    },
    {
      "cell_type": "code",
      "source": [
        "probs_dict = sv.probabilities_dict()\n",
        "\n",
        "total_probability = sum(probs_dict.values())\n",
        "print(\"Total probability:\", total_probability)"
      ],
      "metadata": {
        "colab": {
          "base_uri": "https://localhost:8080/"
        },
        "id": "RybScp8bo_lS",
        "outputId": "6d163d9d-665f-45f5-b64d-63c7e2ecabf1"
      },
      "execution_count": null,
      "outputs": [
        {
          "output_type": "stream",
          "name": "stdout",
          "text": [
            "Total probability: 1.0\n"
          ]
        }
      ]
    },
    {
      "cell_type": "code",
      "source": [
        "sv.is_valid()"
      ],
      "metadata": {
        "colab": {
          "base_uri": "https://localhost:8080/"
        },
        "id": "-Bp1hUzl-WOH",
        "outputId": "53289c93-cd5f-4465-c8e3-2db5256d4c85"
      },
      "execution_count": null,
      "outputs": [
        {
          "output_type": "execute_result",
          "data": {
            "text/plain": [
              "True"
            ]
          },
          "metadata": {},
          "execution_count": 42
        }
      ]
    },
    {
      "cell_type": "code",
      "source": [
        "sv2 = Statevector([1/2, 0, 0, -1/2, 1/2, 0, 0, -1/3])\n",
        "sv2"
      ],
      "metadata": {
        "colab": {
          "base_uri": "https://localhost:8080/"
        },
        "id": "flRP7UJ1-cwU",
        "outputId": "8b2a1404-8303-4339-cac8-d648d2df33a8"
      },
      "execution_count": null,
      "outputs": [
        {
          "output_type": "stream",
          "name": "stdout",
          "text": [
            "Statevector([ 0.5       +0.j,  0.        +0.j,  0.        +0.j,\n",
            "             -0.5       +0.j,  0.5       +0.j,  0.        +0.j,\n",
            "              0.        +0.j, -0.33333333+0.j],\n",
            "            dims=(2, 2, 2))\n"
          ]
        }
      ]
    },
    {
      "cell_type": "code",
      "source": [
        "sv2.is_valid()"
      ],
      "metadata": {
        "colab": {
          "base_uri": "https://localhost:8080/"
        },
        "id": "rnIx4FfK-c3k",
        "outputId": "a211dcf0-870c-4655-972a-d749ecd11686"
      },
      "execution_count": null,
      "outputs": [
        {
          "output_type": "execute_result",
          "data": {
            "text/plain": [
              "False"
            ]
          },
          "metadata": {},
          "execution_count": 44
        }
      ]
    },
    {
      "cell_type": "code",
      "source": [
        "sv2.probabilities().sum()"
      ],
      "metadata": {
        "colab": {
          "base_uri": "https://localhost:8080/"
        },
        "id": "e8k2hsv6-sL-",
        "outputId": "89d66ede-1489-4871-95db-df3e4b8780d4"
      },
      "execution_count": null,
      "outputs": [
        {
          "output_type": "execute_result",
          "data": {
            "text/plain": [
              "0.8611111111111112"
            ]
          },
          "metadata": {},
          "execution_count": 45
        }
      ]
    },
    {
      "cell_type": "code",
      "source": [
        "# Calculate the norm of the vector\n",
        "norm = np.linalg.norm(sv2)\n",
        "\n",
        "# Normalize the vector\n",
        "normalized_vector = sv2 / norm\n",
        "normalized_vector"
      ],
      "metadata": {
        "colab": {
          "base_uri": "https://localhost:8080/"
        },
        "id": "ZiqALQFp_LOY",
        "outputId": "432cda9c-5826-427b-d4fd-fe476099f21e"
      },
      "execution_count": null,
      "outputs": [
        {
          "output_type": "stream",
          "name": "stdout",
          "text": [
            "Statevector([ 0.53881591+0.j,  0.        +0.j,  0.        +0.j,\n",
            "             -0.53881591+0.j,  0.53881591+0.j,  0.        +0.j,\n",
            "              0.        +0.j, -0.3592106 +0.j],\n",
            "            dims=(2, 2, 2))\n"
          ]
        }
      ]
    },
    {
      "cell_type": "code",
      "source": [
        "normalized_vector.probabilities().sum()"
      ],
      "metadata": {
        "colab": {
          "base_uri": "https://localhost:8080/"
        },
        "id": "vKCOlHjO_LQ_",
        "outputId": "d860b807-f57b-490a-de01-413b6114f95e"
      },
      "execution_count": null,
      "outputs": [
        {
          "output_type": "execute_result",
          "data": {
            "text/plain": [
              "1.0"
            ]
          },
          "metadata": {},
          "execution_count": 47
        }
      ]
    },
    {
      "cell_type": "code",
      "source": [
        "normalized_vector.is_valid()"
      ],
      "metadata": {
        "colab": {
          "base_uri": "https://localhost:8080/"
        },
        "id": "vbhAO6Z4_YTq",
        "outputId": "d61c700e-bd05-498b-8733-95c86e054f0e"
      },
      "execution_count": null,
      "outputs": [
        {
          "output_type": "execute_result",
          "data": {
            "text/plain": [
              "True"
            ]
          },
          "metadata": {},
          "execution_count": 48
        }
      ]
    },
    {
      "cell_type": "markdown",
      "source": [
        "### classmethod from_label(label)"
      ],
      "metadata": {
        "id": "CpQxmvjew-1q"
      }
    },
    {
      "cell_type": "code",
      "source": [
        "zero_state = Statevector.from_label('0')\n",
        "print(zero_state)\n",
        "zero_state.draw('latex')"
      ],
      "metadata": {
        "colab": {
          "base_uri": "https://localhost:8080/",
          "height": 72
        },
        "id": "esoOxwdIxCen",
        "outputId": "aaa70dfa-9962-485a-96be-995fe1719aaa"
      },
      "execution_count": null,
      "outputs": [
        {
          "output_type": "stream",
          "name": "stdout",
          "text": [
            "Statevector([1.+0.j, 0.+0.j],\n",
            "            dims=(2,))\n"
          ]
        },
        {
          "output_type": "execute_result",
          "data": {
            "text/plain": [
              "<IPython.core.display.Latex object>"
            ],
            "text/latex": "$$ |0\\rangle$$"
          },
          "metadata": {},
          "execution_count": 49
        }
      ]
    },
    {
      "cell_type": "code",
      "source": [
        "one_state = Statevector.from_label('1')\n",
        "print(one_state)\n",
        "one_state.draw('latex')"
      ],
      "metadata": {
        "colab": {
          "base_uri": "https://localhost:8080/",
          "height": 72
        },
        "id": "o_BFeR_OxChT",
        "outputId": "0eb383af-f653-4406-d791-91f3d127e7ff"
      },
      "execution_count": null,
      "outputs": [
        {
          "output_type": "stream",
          "name": "stdout",
          "text": [
            "Statevector([0.+0.j, 1.+0.j],\n",
            "            dims=(2,))\n"
          ]
        },
        {
          "output_type": "execute_result",
          "data": {
            "text/plain": [
              "<IPython.core.display.Latex object>"
            ],
            "text/latex": "$$ |1\\rangle$$"
          },
          "metadata": {},
          "execution_count": 50
        }
      ]
    },
    {
      "cell_type": "code",
      "source": [
        "plus_state = Statevector.from_label(\"+\")\n",
        "print(plus_state)\n",
        "plus_state.draw('latex')"
      ],
      "metadata": {
        "colab": {
          "base_uri": "https://localhost:8080/",
          "height": 75
        },
        "id": "PGswco88uZM4",
        "outputId": "70da4f9d-3921-4377-84e5-cce4195bfe73"
      },
      "execution_count": null,
      "outputs": [
        {
          "output_type": "stream",
          "name": "stdout",
          "text": [
            "Statevector([0.70710678+0.j, 0.70710678+0.j],\n",
            "            dims=(2,))\n"
          ]
        },
        {
          "output_type": "execute_result",
          "data": {
            "text/plain": [
              "<IPython.core.display.Latex object>"
            ],
            "text/latex": "$$\\frac{\\sqrt{2}}{2} |0\\rangle+\\frac{\\sqrt{2}}{2} |1\\rangle$$"
          },
          "metadata": {},
          "execution_count": 51
        }
      ]
    },
    {
      "cell_type": "code",
      "source": [
        "minus_state = Statevector.from_label(\"-\")\n",
        "print(minus_state)\n",
        "minus_state.draw('latex')"
      ],
      "metadata": {
        "colab": {
          "base_uri": "https://localhost:8080/",
          "height": 75
        },
        "id": "UUYXNCeHukSm",
        "outputId": "630454c5-d1f0-425a-d7cc-e9485782f65c"
      },
      "execution_count": null,
      "outputs": [
        {
          "output_type": "stream",
          "name": "stdout",
          "text": [
            "Statevector([ 0.70710678+0.j, -0.70710678+0.j],\n",
            "            dims=(2,))\n"
          ]
        },
        {
          "output_type": "execute_result",
          "data": {
            "text/plain": [
              "<IPython.core.display.Latex object>"
            ],
            "text/latex": "$$\\frac{\\sqrt{2}}{2} |0\\rangle- \\frac{\\sqrt{2}}{2} |1\\rangle$$"
          },
          "metadata": {},
          "execution_count": 52
        }
      ]
    },
    {
      "cell_type": "code",
      "source": [
        "right_state = Statevector.from_label(\"r\")\n",
        "print(right_state)\n",
        "right_state.draw('latex')"
      ],
      "metadata": {
        "colab": {
          "base_uri": "https://localhost:8080/",
          "height": 75
        },
        "id": "pWBuAGPtvSFn",
        "outputId": "5ad4fcca-b575-42fa-c901-3b21d514b4c5"
      },
      "execution_count": null,
      "outputs": [
        {
          "output_type": "stream",
          "name": "stdout",
          "text": [
            "Statevector([0.70710678+0.j        , 0.        +0.70710678j],\n",
            "            dims=(2,))\n"
          ]
        },
        {
          "output_type": "execute_result",
          "data": {
            "text/plain": [
              "<IPython.core.display.Latex object>"
            ],
            "text/latex": "$$\\frac{\\sqrt{2}}{2} |0\\rangle+\\frac{\\sqrt{2} i}{2} |1\\rangle$$"
          },
          "metadata": {},
          "execution_count": 53
        }
      ]
    },
    {
      "cell_type": "code",
      "source": [
        "left_state = Statevector.from_label(\"l\")\n",
        "print(left_state)\n",
        "left_state.draw('latex')"
      ],
      "metadata": {
        "colab": {
          "base_uri": "https://localhost:8080/",
          "height": 75
        },
        "id": "Lh36G5DXu-ho",
        "outputId": "94e9f6c5-ce9c-466a-d619-721d20d25436"
      },
      "execution_count": null,
      "outputs": [
        {
          "output_type": "stream",
          "name": "stdout",
          "text": [
            "Statevector([0.70710678+0.j        , 0.        -0.70710678j],\n",
            "            dims=(2,))\n"
          ]
        },
        {
          "output_type": "execute_result",
          "data": {
            "text/plain": [
              "<IPython.core.display.Latex object>"
            ],
            "text/latex": "$$\\frac{\\sqrt{2}}{2} |0\\rangle- \\frac{\\sqrt{2} i}{2} |1\\rangle$$"
          },
          "metadata": {},
          "execution_count": 54
        }
      ]
    },
    {
      "cell_type": "code",
      "source": [
        "psi = Statevector.from_label('0+l') # This is a tensor product\n",
        "print(psi)\n",
        "psi.draw('latex')"
      ],
      "metadata": {
        "colab": {
          "base_uri": "https://localhost:8080/",
          "height": 90
        },
        "id": "zmaxHXfTx_ei",
        "outputId": "0760cbc9-3e59-4c01-f617-334a4a6e2285"
      },
      "execution_count": null,
      "outputs": [
        {
          "output_type": "stream",
          "name": "stdout",
          "text": [
            "Statevector([0.5+0.j , 0. -0.5j, 0.5+0.j , 0. -0.5j, 0. +0.j , 0. +0.j ,\n",
            "             0. +0.j , 0. +0.j ],\n",
            "            dims=(2, 2, 2))\n"
          ]
        },
        {
          "output_type": "execute_result",
          "data": {
            "text/plain": [
              "<IPython.core.display.Latex object>"
            ],
            "text/latex": "$$\\frac{1}{2} |000\\rangle- \\frac{i}{2} |001\\rangle+\\frac{1}{2} |010\\rangle- \\frac{i}{2} |011\\rangle$$"
          },
          "metadata": {},
          "execution_count": 55
        }
      ]
    },
    {
      "cell_type": "code",
      "source": [
        "sy.Matrix(psi)"
      ],
      "metadata": {
        "colab": {
          "base_uri": "https://localhost:8080/",
          "height": 180
        },
        "id": "ITJx4-SApxx_",
        "outputId": "6482a5d7-cb6c-4409-8cf6-16ed181c9400"
      },
      "execution_count": null,
      "outputs": [
        {
          "output_type": "execute_result",
          "data": {
            "text/plain": [
              "Matrix([\n",
              "[   0.5],\n",
              "[-0.5*I],\n",
              "[   0.5],\n",
              "[-0.5*I],\n",
              "[     0],\n",
              "[     0],\n",
              "[     0],\n",
              "[     0]])"
            ],
            "text/latex": "$\\displaystyle \\left[\\begin{matrix}0.5\\\\- 0.5 i\\\\0.5\\\\- 0.5 i\\\\0\\\\0\\\\0\\\\0\\end{matrix}\\right]$"
          },
          "metadata": {},
          "execution_count": 56
        }
      ]
    },
    {
      "cell_type": "code",
      "source": [
        "# Probabilities for measuring all qubits\n",
        "probs = psi.probabilities()\n",
        "print('probs: {}'.format(probs),\"\\n\")\n",
        "\n",
        "# Probabilities for measuring only qubit-0\n",
        "probs_qubit_0 = psi.probabilities([0])\n",
        "print('Qubit-0 probs: {}'.format(probs_qubit_0))\n",
        "\n",
        "# Probabilities for measuring only qubit-1\n",
        "probs_qubit_1 = psi.probabilities([1])\n",
        "print('Qubit-1 probs: {}'.format(probs_qubit_1))\n",
        "\n",
        "# Probabilities for measuring only qubit-2\n",
        "probs_qubit_2 = psi.probabilities([2])\n",
        "print('Qubit-2 probs: {}'.format(probs_qubit_2))"
      ],
      "metadata": {
        "colab": {
          "base_uri": "https://localhost:8080/"
        },
        "id": "o_fooGmRy_hl",
        "outputId": "0e221565-5bf0-49de-db77-f41548652d44"
      },
      "execution_count": null,
      "outputs": [
        {
          "output_type": "stream",
          "name": "stdout",
          "text": [
            "probs: [0.25 0.25 0.25 0.25 0.   0.   0.   0.  ] \n",
            "\n",
            "Qubit-0 probs: [0.5 0.5]\n",
            "Qubit-1 probs: [0.5 0.5]\n",
            "Qubit-2 probs: [1. 0.]\n"
          ]
        }
      ]
    },
    {
      "cell_type": "markdown",
      "source": [
        "## Operator class from quantum_info (Matrix operator class or Gate)\n",
        "gives a single matrix representation of all gates in the circuit"
      ],
      "metadata": {
        "id": "xjZHioi1yHTk"
      }
    },
    {
      "cell_type": "code",
      "source": [
        "qc4 = QuantumCircuit(1)\n",
        "qc4.h(0)\n",
        "# qc4.measure_all()\n",
        "qc4.draw('mpl')"
      ],
      "metadata": {
        "id": "VtSE62G1yREp",
        "colab": {
          "base_uri": "https://localhost:8080/",
          "height": 127
        },
        "outputId": "d8d73f45-78b3-4ffe-ba76-e7d4e9819190"
      },
      "execution_count": null,
      "outputs": [
        {
          "output_type": "execute_result",
          "data": {
            "text/plain": [
              "<Figure size 185.453x117.056 with 1 Axes>"
            ],
            "image/png": "[encoded data removed]"
          },
          "metadata": {},
          "execution_count": 58
        }
      ]
    },
    {
      "cell_type": "code",
      "source": [
        "Operator(qc4)"
      ],
      "metadata": {
        "id": "X0WLnp5rgRgH",
        "colab": {
          "base_uri": "https://localhost:8080/"
        },
        "outputId": "766a4bc5-c9e9-4ff6-bb73-395f24e12b90"
      },
      "execution_count": null,
      "outputs": [
        {
          "output_type": "stream",
          "name": "stdout",
          "text": [
            "Operator([[ 0.70710678+0.j,  0.70710678+0.j],\n",
            "          [ 0.70710678+0.j, -0.70710678+0.j]],\n",
            "         input_dims=(2,), output_dims=(2,))\n"
          ]
        }
      ]
    },
    {
      "cell_type": "code",
      "source": [
        "sy.Matrix(Operator(qc4))"
      ],
      "metadata": {
        "id": "qpfuT8osyRHH",
        "colab": {
          "base_uri": "https://localhost:8080/",
          "height": 58
        },
        "outputId": "9059d0c5-777c-481b-8563-2c495b0aace4"
      },
      "execution_count": null,
      "outputs": [
        {
          "output_type": "execute_result",
          "data": {
            "text/plain": [
              "Matrix([\n",
              "[0.707106781186547,  0.707106781186547],\n",
              "[0.707106781186547, -0.707106781186547]])"
            ],
            "text/latex": "$\\displaystyle \\left[\\begin{matrix}0.707106781186547 & 0.707106781186547\\\\0.707106781186547 & -0.707106781186547\\end{matrix}\\right]$"
          },
          "metadata": {},
          "execution_count": 60
        }
      ]
    },
    {
      "cell_type": "code",
      "source": [
        "Operator(qc4).draw('latex')"
      ],
      "metadata": {
        "id": "EDgbdr4tyDGf",
        "colab": {
          "base_uri": "https://localhost:8080/",
          "height": 68
        },
        "outputId": "6bddb6ec-35b4-4195-d633-9c1244cfc818"
      },
      "execution_count": null,
      "outputs": [
        {
          "output_type": "execute_result",
          "data": {
            "text/plain": [
              "<IPython.core.display.Latex object>"
            ],
            "text/latex": "$$\n\n\\begin{bmatrix}\n\\frac{\\sqrt{2}}{2} & \\frac{\\sqrt{2}}{2}  \\\\\n \\frac{\\sqrt{2}}{2} & - \\frac{\\sqrt{2}}{2}  \\\\\n \\end{bmatrix}\n$$"
          },
          "metadata": {},
          "execution_count": 61
        }
      ]
    },
    {
      "cell_type": "code",
      "source": [
        "qc5 = QuantumCircuit(2)\n",
        "qc5.h(0)\n",
        "qc5.cx(0, 1)\n",
        "# qc4.measure_all()\n",
        "qc5.draw('mpl')"
      ],
      "metadata": {
        "colab": {
          "base_uri": "https://localhost:8080/",
          "height": 191
        },
        "id": "cE4PT2wLu865",
        "outputId": "b086ed84-1f29-43b8-968e-d4a907cef9c6"
      },
      "execution_count": null,
      "outputs": [
        {
          "output_type": "execute_result",
          "data": {
            "text/plain": [
              "<Figure size 287.294x200.667 with 1 Axes>"
            ],
            "image/png": "[encoded data removed]"
          },
          "metadata": {},
          "execution_count": 62
        }
      ]
    },
    {
      "cell_type": "code",
      "source": [
        "Operator(qc5)"
      ],
      "metadata": {
        "colab": {
          "base_uri": "https://localhost:8080/"
        },
        "id": "kyxJrhRXvEOl",
        "outputId": "026cfb3a-8847-4a4a-a269-5cc188ccb6bc"
      },
      "execution_count": null,
      "outputs": [
        {
          "output_type": "stream",
          "name": "stdout",
          "text": [
            "Operator([[ 0.70710678+0.j,  0.70710678+0.j,  0.        +0.j,\n",
            "            0.        +0.j],\n",
            "          [ 0.        +0.j,  0.        +0.j,  0.70710678+0.j,\n",
            "           -0.70710678+0.j],\n",
            "          [ 0.        +0.j,  0.        +0.j,  0.70710678+0.j,\n",
            "            0.70710678+0.j],\n",
            "          [ 0.70710678+0.j, -0.70710678+0.j,  0.        +0.j,\n",
            "            0.        +0.j]],\n",
            "         input_dims=(2, 2), output_dims=(2, 2))\n"
          ]
        }
      ]
    },
    {
      "cell_type": "code",
      "source": [
        "Operator(qc5).draw('latex')"
      ],
      "metadata": {
        "colab": {
          "base_uri": "https://localhost:8080/",
          "height": 112
        },
        "id": "ciJOL--svER_",
        "outputId": "2851571b-6eb9-47e1-c8a1-91b1edf333c8"
      },
      "execution_count": null,
      "outputs": [
        {
          "output_type": "execute_result",
          "data": {
            "text/plain": [
              "<IPython.core.display.Latex object>"
            ],
            "text/latex": "$$\n\n\\begin{bmatrix}\n\\frac{\\sqrt{2}}{2} & \\frac{\\sqrt{2}}{2} & 0 & 0  \\\\\n 0 & 0 & \\frac{\\sqrt{2}}{2} & - \\frac{\\sqrt{2}}{2}  \\\\\n 0 & 0 & \\frac{\\sqrt{2}}{2} & \\frac{\\sqrt{2}}{2}  \\\\\n \\frac{\\sqrt{2}}{2} & - \\frac{\\sqrt{2}}{2} & 0 & 0  \\\\\n \\end{bmatrix}\n$$"
          },
          "metadata": {},
          "execution_count": 64
        }
      ]
    },
    {
      "cell_type": "markdown",
      "source": [
        "## Qiskit Aer Simulator:\n",
        "Qiskit Aer is high-performance quantum computing simulators with realistic noise models. It provides interfaces to run quantum circuits with or without noise using multiple different simulation methods. Qiskit Aer supports leveraging MPI and running on GPUs to improve the performance of simulation.\n",
        "https://qiskit.github.io/qiskit-aer/getting_started.html   \n",
        "https://qiskit.github.io/qiskit-aer/stubs/qiskit_aer.AerSimulator.html"
      ],
      "metadata": {
        "id": "jkV4e1rFUFMR"
      }
    },
    {
      "cell_type": "code",
      "source": [
        "# Create circuit\n",
        "circ = QuantumCircuit(2)\n",
        "circ.h(0)\n",
        "circ.cx(0, 1)\n",
        "circ.measure_all()\n",
        "\n",
        "# Transpile for simulator\n",
        "simulator = AerSimulator()\n",
        "circ = transpile(circ, simulator)\n",
        "\n",
        "# Run and get counts\n",
        "result = simulator.run(circ).result()\n",
        "counts = result.get_counts(circ)\n",
        "print(counts,\"\\n\")\n",
        "\n",
        "# Draw the circuit\n",
        "display(circ.draw('mpl'))\n",
        "print()\n",
        "plot_histogram(counts, title='Bell-State counts')"
      ],
      "metadata": {
        "colab": {
          "base_uri": "https://localhost:8080/",
          "height": 750
        },
        "id": "HqdoBrbAxHn_",
        "outputId": "84f933ab-4234-4f6d-c294-e2e28db9b89b"
      },
      "execution_count": null,
      "outputs": [
        {
          "output_type": "stream",
          "name": "stdout",
          "text": [
            "{'00': 520, '11': 504} \n",
            "\n"
          ]
        },
        {
          "output_type": "display_data",
          "data": {
            "text/plain": [
              "<Figure size 580.387x284.278 with 1 Axes>"
            ],
            "image/png": "[encoded data removed]"
          },
          "metadata": {}
        },
        {
          "output_type": "stream",
          "name": "stdout",
          "text": [
            "\n"
          ]
        },
        {
          "output_type": "execute_result",
          "data": {
            "text/plain": [
              "<Figure size 640x480 with 1 Axes>"
            ],
            "image/png": "[encoded data removed]"
          },
          "metadata": {},
          "execution_count": 65
        }
      ]
    },
    {
      "cell_type": "code",
      "source": [
        "# Construct quantum circuit without measure\n",
        "circ = QuantumCircuit(2)\n",
        "circ.h(0)\n",
        "circ.cx(0, 1)\n",
        "circ.save_statevector()\n",
        "\n",
        "# Transpile for simulator\n",
        "simulator = AerSimulator(method='statevector')\n",
        "circ = transpile(circ, simulator)\n",
        "\n",
        "# Run and get statevector\n",
        "result = simulator.run(circ).result()\n",
        "statevector = result.get_statevector(circ)\n",
        "statevector.draw('latex')"
      ],
      "metadata": {
        "colab": {
          "base_uri": "https://localhost:8080/",
          "height": 40
        },
        "id": "0zN8Wivbz3Tp",
        "outputId": "5e7b458f-f898-4f66-f0a2-1c172370a04f"
      },
      "execution_count": null,
      "outputs": [
        {
          "output_type": "execute_result",
          "data": {
            "text/plain": [
              "<IPython.core.display.Latex object>"
            ],
            "text/latex": "$$\\frac{\\sqrt{2}}{2} |00\\rangle+\\frac{\\sqrt{2}}{2} |11\\rangle$$"
          },
          "metadata": {},
          "execution_count": 66
        }
      ]
    },
    {
      "cell_type": "code",
      "source": [
        "# Construct quantum circuit without measure\n",
        "circ = QuantumCircuit(2)\n",
        "circ.h(0)\n",
        "circ.cx(0, 1)\n",
        "circ.save_unitary()\n",
        "\n",
        "# Transpile for simulator\n",
        "simulator = AerSimulator(method = 'unitary')\n",
        "circ = transpile(circ, simulator)\n",
        "\n",
        "# Run and get unitary\n",
        "result = simulator.run(circ).result()\n",
        "unitary = result.get_unitary(circ)\n",
        "unitary.draw('latex')"
      ],
      "metadata": {
        "colab": {
          "base_uri": "https://localhost:8080/",
          "height": 112
        },
        "id": "P6WUpKmzz3V-",
        "outputId": "34880ab1-cc65-4a47-8a4f-a592f5513e32"
      },
      "execution_count": null,
      "outputs": [
        {
          "output_type": "execute_result",
          "data": {
            "text/plain": [
              "<IPython.core.display.Latex object>"
            ],
            "text/latex": "$$\n\n\\begin{bmatrix}\n\\frac{\\sqrt{2}}{2} & \\frac{\\sqrt{2}}{2} & 0 & 0  \\\\\n 0 & 0 & \\frac{\\sqrt{2}}{2} & - \\frac{\\sqrt{2}}{2}  \\\\\n 0 & 0 & \\frac{\\sqrt{2}}{2} & \\frac{\\sqrt{2}}{2}  \\\\\n \\frac{\\sqrt{2}}{2} & - \\frac{\\sqrt{2}}{2} & 0 & 0  \\\\\n \\end{bmatrix}\n$$"
          },
          "metadata": {},
          "execution_count": 67
        }
      ]
    },
    {
      "cell_type": "markdown",
      "source": [
        "## Visualizations (qiskit.visualization)\n",
        "https://docs.quantum.ibm.com/api/qiskit/visualization"
      ],
      "metadata": {
        "id": "_mw7k2AF_9-b"
      }
    },
    {
      "cell_type": "code",
      "source": [],
      "metadata": {
        "id": "hCBrlTPBxScV"
      },
      "execution_count": null,
      "outputs": []
    },
    {
      "cell_type": "markdown",
      "source": [
        "## Qiskit Circuit Library\n",
        "The Qiskit circuit library is a collection of valuable, well-studied circuits and gates that Qiskit users can easily plug into their quantum circuits."
      ],
      "metadata": {
        "id": "gbSXdfb7yAh9"
      }
    },
    {
      "cell_type": "markdown",
      "source": [
        "### Quantum Fourier Transform (QFT)"
      ],
      "metadata": {
        "id": "liP6PSg68FZB"
      }
    },
    {
      "cell_type": "code",
      "source": [
        "qft = QFT(2)\n",
        "display(qft.draw('mpl'))\n",
        "print()\n",
        "display(Statevector(qft).draw('latex'))\n",
        "print()\n",
        "display(qft.decompose().draw('mpl'))"
      ],
      "metadata": {
        "id": "EutECoas_9p1",
        "colab": {
          "base_uri": "https://localhost:8080/",
          "height": 421
        },
        "outputId": "d53b4a6f-11a6-4925-e8f8-ae9003a1214b"
      },
      "execution_count": null,
      "outputs": [
        {
          "output_type": "display_data",
          "data": {
            "text/plain": [
              "<Figure size 203.683x200.667 with 1 Axes>"
            ],
            "image/png": "[encoded data removed]"
          },
          "metadata": {}
        },
        {
          "output_type": "stream",
          "name": "stdout",
          "text": [
            "\n"
          ]
        },
        {
          "output_type": "display_data",
          "data": {
            "text/plain": [
              "<IPython.core.display.Latex object>"
            ],
            "text/latex": "$$\\frac{1}{2} |00\\rangle+\\frac{1}{2} |01\\rangle+\\frac{1}{2} |10\\rangle+\\frac{1}{2} |11\\rangle$$"
          },
          "metadata": {}
        },
        {
          "output_type": "stream",
          "name": "stdout",
          "text": [
            "\n"
          ]
        },
        {
          "output_type": "display_data",
          "data": {
            "text/plain": [
              "<Figure size 538.128x200.667 with 1 Axes>"
            ],
            "image/png": "[encoded data removed]"
          },
          "metadata": {}
        }
      ]
    },
    {
      "cell_type": "code",
      "source": [
        "qc6 = QuantumCircuit(2)\n",
        "qc6.x(0)\n",
        "qc6.x(1)\n",
        "# qc6.barrier()\n",
        "qc6.append(qft, [0, 1])  # Apply the QFT to qubits 0 and 1\n",
        "display(qc6.draw('mpl'))\n",
        "print()\n",
        "display(Statevector(qc6).draw('latex'))\n",
        "print()\n",
        "display(qc6.decompose(3).draw('mpl'))"
      ],
      "metadata": {
        "colab": {
          "base_uri": "https://localhost:8080/",
          "height": 421
        },
        "id": "PiGG3xBQ8C-N",
        "outputId": "83e012d7-03b5-4cff-e89d-70c9bf5e9571"
      },
      "execution_count": null,
      "outputs": [
        {
          "output_type": "display_data",
          "data": {
            "text/plain": [
              "<Figure size 287.294x200.667 with 1 Axes>"
            ],
            "image/png": "[encoded data removed]"
          },
          "metadata": {}
        },
        {
          "output_type": "stream",
          "name": "stdout",
          "text": [
            "\n"
          ]
        },
        {
          "output_type": "display_data",
          "data": {
            "text/plain": [
              "<IPython.core.display.Latex object>"
            ],
            "text/latex": "$$\\frac{1}{2} |00\\rangle- \\frac{i}{2} |01\\rangle- \\frac{1}{2} |10\\rangle+\\frac{i}{2} |11\\rangle$$"
          },
          "metadata": {}
        },
        {
          "output_type": "stream",
          "name": "stdout",
          "text": [
            "\n"
          ]
        },
        {
          "output_type": "display_data",
          "data": {
            "text/plain": [
              "<Figure size 287.294x200.667 with 1 Axes>"
            ],
            "image/png": "[encoded data removed]"
          },
          "metadata": {}
        }
      ]
    },
    {
      "cell_type": "markdown",
      "source": [
        "### PauliEvolutionGate :\n",
        "Time-evolution of an operator consisting of Paulis.\n",
        "\n",
        "Time evolution circuits allow us to evolve a quantum state in time.\n",
        "Time evolution circuits are also a fundamental building block of chemistry wave functions—e.g., for unitary coupled-cluster trial states—and of the QAOA algorithm we use for optimization problems.\n",
        "\n",
        "\n",
        "Time evolution circuits are also a fundamental building block of chemistry wave functions—e.g., for unitary coupled-cluster trial states—and of the QAOA algorithm we use for optimization problems."
      ],
      "metadata": {
        "id": "jTBWCtI2v4EJ"
      }
    },
    {
      "cell_type": "code",
      "source": [
        "# build the evolution gate\n",
        "hamiltonian = SparsePauliOp([\"ZXI\", \"IZZ\"], [0.2, 0.3])\n",
        "\n",
        "# prepare an initial state with a Hamadard on the middle qubit\n",
        "state = QuantumCircuit(3)\n",
        "state.h(1)\n",
        "\n",
        "evolution = PauliEvolutionGate(hamiltonian, time=1)\n",
        "\n",
        "# evolve state by appending the evolution gate\n",
        "# state.append(evolution)\n",
        "state.append(evolution, [0, 1, 2])\n",
        "\n",
        "state.draw('mpl')"
      ],
      "metadata": {
        "colab": {
          "base_uri": "https://localhost:8080/",
          "height": 255
        },
        "id": "6xdWQT8ZwBci",
        "outputId": "adb5d5cf-3525-4125-d7de-769c2cb002cd"
      },
      "execution_count": null,
      "outputs": [
        {
          "output_type": "execute_result",
          "data": {
            "text/plain": [
              "<Figure size 538.33x284.278 with 1 Axes>"
            ],
            "image/png": "[encoded data removed]"
          },
          "metadata": {},
          "execution_count": 73
        }
      ]
    },
    {
      "cell_type": "code",
      "source": [
        "state.decompose().draw('mpl')"
      ],
      "metadata": {
        "colab": {
          "base_uri": "https://localhost:8080/",
          "height": 255
        },
        "id": "d6Vns4R1yeui",
        "outputId": "f387550b-8f28-4180-f3aa-54fbd2205e96"
      },
      "execution_count": null,
      "outputs": [
        {
          "output_type": "execute_result",
          "data": {
            "text/plain": [
              "<Figure size 454.719x284.278 with 1 Axes>"
            ],
            "image/png": "[encoded data removed]"
          },
          "metadata": {},
          "execution_count": 74
        }
      ]
    },
    {
      "cell_type": "code",
      "source": [
        "state.decompose(reps=2).draw('mpl')"
      ],
      "metadata": {
        "colab": {
          "base_uri": "https://localhost:8080/",
          "height": 255
        },
        "id": "5ErEiLxB8xXe",
        "outputId": "a18f202e-78b7-41e4-a63d-5c93468edad4"
      },
      "execution_count": null,
      "outputs": [
        {
          "output_type": "execute_result",
          "data": {
            "text/plain": [
              "<Figure size 872.774x284.278 with 1 Axes>"
            ],
            "image/png": "[encoded data removed]"
          },
          "metadata": {},
          "execution_count": 75
        }
      ]
    },
    {
      "cell_type": "markdown",
      "source": [
        "## Superdense coding\n",
        "\n",
        "Asja has two bits of classical information: $$ a,b \\in \\{0,1\\} $$.\n",
        "There are four possible values for the pair $$ (a,b) $$:  $$ (0,0), (0,1), (1,0),\\mbox{ or } (1,1) $$.\n",
        "If $a$ is 1, then Asja applies z-gate, i.e., $Z$, to her qubit.\n",
        "If $b$ is 1, then Asja applies x-gate (NOT operator) to her qubit.\n",
        "Then, Asja sends her qubit to Balvis."
      ],
      "metadata": {
        "id": "WDyFXC39dQn-"
      }
    },
    {
      "cell_type": "code",
      "source": [
        "all_pairs = ['00','01','10','11']\n",
        "\n",
        "for pair in all_pairs:\n",
        "\n",
        "    # create a quantum curcuit with two qubits: Asja's and Balvis' qubits.\n",
        "    # both are initially set to |0>.\n",
        "    q = QuantumRegister(2,\"q\") # quantum register with 2 qubits\n",
        "    c = ClassicalRegister(2,\"c\") # classical register with 2 bits\n",
        "    qc = QuantumCircuit(q,c) # quantum circuit with quantum and classical registers\n",
        "\n",
        "    # apply h-gate (Hadamard) to the Asja's qubit\n",
        "    qc.h(q[1])\n",
        "\n",
        "    # apply cx-gate as CNOT(Asja's-qubit,Balvis'-qubit)\n",
        "    qc.cx(q[1],q[0])\n",
        "    # barrier\n",
        "    qc.barrier()\n",
        "\n",
        "    # they are separated from each other now\n",
        "\n",
        "    # if a is 1, then apply z-gate to Asja's qubit\n",
        "    if pair[0]=='1':\n",
        "        qc.z(q[1])\n",
        "\n",
        "    # if b is 1, then apply x-gate (NOT) to Asja's qubit\n",
        "    if pair[1]=='1':\n",
        "        qc.x(q[1])\n",
        "\n",
        "    # Asja sends her qubit to Balvis\n",
        "    qc.barrier()\n",
        "\n",
        "    #  apply cx-gate as CNOT(Asja's-qubit,Balvis'-qubit)\n",
        "    qc.cx(q[1],q[0])\n",
        "\n",
        "    # apply h-gate (Hadamard) to the Asja's qubit\n",
        "    qc.h(q[1])\n",
        "\n",
        "    # measure both qubits\n",
        "    qc.barrier()\n",
        "    qc.measure(q,c)\n",
        "\n",
        "    # draw the circuit in Qiskit's reading order\n",
        "    display(qc.draw(output='mpl',reverse_bits=True))\n",
        "\n",
        "    # compare the results with pair (a,b)\n",
        "    job = AerSimulator().run(qc,shots=100)\n",
        "    counts = job.result().get_counts(qc)\n",
        "    print(pair,\"-->\",counts,'\\n')\n",
        "    print()"
      ],
      "metadata": {
        "id": "LQ_3Rh-pdWyJ",
        "colab": {
          "base_uri": "https://localhost:8080/",
          "height": 1000
        },
        "outputId": "5a7f42ca-9320-44d5-b4d3-18f114311568"
      },
      "execution_count": null,
      "outputs": [
        {
          "output_type": "display_data",
          "data": {
            "text/plain": [
              "<Figure size 872.572x284.278 with 1 Axes>"
            ],
            "image/png": "[encoded data removed]"
          },
          "metadata": {}
        },
        {
          "output_type": "stream",
          "name": "stdout",
          "text": [
            "00 --> {'00': 100} \n",
            "\n",
            "\n"
          ]
        },
        {
          "output_type": "display_data",
          "data": {
            "text/plain": [
              "<Figure size 956.183x284.278 with 1 Axes>"
            ],
            "image/png": "[encoded data removed]"
          },
          "metadata": {}
        },
        {
          "output_type": "stream",
          "name": "stdout",
          "text": [
            "01 --> {'01': 100} \n",
            "\n",
            "\n"
          ]
        },
        {
          "output_type": "display_data",
          "data": {
            "text/plain": [
              "<Figure size 956.183x284.278 with 1 Axes>"
            ],
            "image/png": "[encoded data removed]"
          },
          "metadata": {}
        },
        {
          "output_type": "stream",
          "name": "stdout",
          "text": [
            "10 --> {'10': 100} \n",
            "\n",
            "\n"
          ]
        },
        {
          "output_type": "display_data",
          "data": {
            "text/plain": [
              "<Figure size 1039.79x284.278 with 1 Axes>"
            ],
            "image/png": "[encoded data removed]"
          },
          "metadata": {}
        },
        {
          "output_type": "stream",
          "name": "stdout",
          "text": [
            "11 --> {'11': 100} \n",
            "\n",
            "\n"
          ]
        }
      ]
    },
    {
      "cell_type": "markdown",
      "source": [
        "#### Qiskit order!"
      ],
      "metadata": {
        "id": "jG-r5jPtvysZ"
      }
    },
    {
      "cell_type": "code",
      "source": [
        "all_pairs = ['00','01','10','11']\n",
        "\n",
        "for pair in all_pairs:\n",
        "\n",
        "    # create a quantum curcuit with two qubits: Asja's and Balvis' qubits.\n",
        "    # both are initially set to |0>.\n",
        "    q = QuantumRegister(2,\"q\") # quantum register with 2 qubits\n",
        "    c = ClassicalRegister(2,\"c\") # classical register with 2 bits\n",
        "    qc = QuantumCircuit(q,c) # quantum circuit with quantum and classical registers\n",
        "\n",
        "    # apply h-gate (Hadamard) to the Asja's qubit\n",
        "    qc.h(q[0])\n",
        "\n",
        "    # apply cx-gate as CNOT(Asja's-qubit,Balvis'-qubit)\n",
        "    qc.cx(q[0],q[1])\n",
        "    # barrier\n",
        "    qc.barrier()\n",
        "\n",
        "    # they are separated from each other now\n",
        "\n",
        "    # if a is 1, then apply z-gate to Asja's qubit\n",
        "    if pair[0]=='1':\n",
        "        qc.z(q[0])\n",
        "\n",
        "    # if b is 1, then apply x-gate (NOT) to Asja's qubit\n",
        "    if pair[1]=='1':\n",
        "        qc.x(q[0])\n",
        "\n",
        "    # Asja sends her qubit to Balvis\n",
        "    qc.barrier()\n",
        "\n",
        "    #  apply cx-gate as CNOT(Asja's-qubit,Balvis'-qubit)\n",
        "    qc.cx(q[0],q[1])\n",
        "\n",
        "    # apply h-gate (Hadamard) to the Asja's qubit\n",
        "    qc.h(q[0])\n",
        "\n",
        "    # measure both qubits\n",
        "    qc.barrier()\n",
        "    qc.measure(q,c)\n",
        "\n",
        "    # draw the circuit in Qiskit's reading order\n",
        "    display(qc.draw(output='mpl'))\n",
        "\n",
        "    # compare the results with pair (a,b)\n",
        "    job = AerSimulator().run(qc,shots=100)\n",
        "    counts = job.result().get_counts(qc)\n",
        "    print(pair,\"-->\",counts,'\\n')\n",
        "    print()"
      ],
      "metadata": {
        "colab": {
          "base_uri": "https://localhost:8080/",
          "height": 1000
        },
        "id": "f9woGs5zvRNq",
        "outputId": "d36ed676-01f5-43b1-8b11-3b34b5215d57"
      },
      "execution_count": null,
      "outputs": [
        {
          "output_type": "display_data",
          "data": {
            "text/plain": [
              "<Figure size 872.572x284.278 with 1 Axes>"
            ],
            "image/png": "[encoded data removed]"
          },
          "metadata": {}
        },
        {
          "output_type": "stream",
          "name": "stdout",
          "text": [
            "00 --> {'00': 100} \n",
            "\n",
            "\n"
          ]
        },
        {
          "output_type": "display_data",
          "data": {
            "text/plain": [
              "<Figure size 956.183x284.278 with 1 Axes>"
            ],
            "image/png": "[encoded data removed]"
          },
          "metadata": {}
        },
        {
          "output_type": "stream",
          "name": "stdout",
          "text": [
            "01 --> {'10': 100} \n",
            "\n",
            "\n"
          ]
        },
        {
          "output_type": "display_data",
          "data": {
            "text/plain": [
              "<Figure size 956.183x284.278 with 1 Axes>"
            ],
            "image/png": "[encoded data removed]"
          },
          "metadata": {}
        },
        {
          "output_type": "stream",
          "name": "stdout",
          "text": [
            "10 --> {'01': 100} \n",
            "\n",
            "\n"
          ]
        },
        {
          "output_type": "display_data",
          "data": {
            "text/plain": [
              "<Figure size 1039.79x284.278 with 1 Axes>"
            ],
            "image/png": "[encoded data removed]"
          },
          "metadata": {}
        },
        {
          "output_type": "stream",
          "name": "stdout",
          "text": [
            "11 --> {'11': 100} \n",
            "\n",
            "\n"
          ]
        }
      ]
    },
    {
      "cell_type": "markdown",
      "source": [
        "## Quantum teleportation"
      ],
      "metadata": {
        "id": "Qkzo8fxsdVtJ"
      }
    },
    {
      "cell_type": "markdown",
      "source": [
        "### QWorld (QBronze) Version"
      ],
      "metadata": {
        "id": "FdQBMzfgFO2W"
      }
    },
    {
      "cell_type": "code",
      "source": [
        "# quantum circuit with three qubits and three bits\n",
        "q =  QuantumRegister(3,\"q\")\n",
        "c = ClassicalRegister(3,\"c\")\n",
        "qc = QuantumCircuit(q,c)\n",
        "\n",
        "# rotate the first qubit by random angle\n",
        "r = randrange(100)\n",
        "theta = 2*pi*(r/100) # radians\n",
        "print(\"the picked angle is\",r*3.6,\"degrees and\",theta,\"radians\")\n",
        "a = cos(theta)\n",
        "b = sin(theta)\n",
        "print(\"a=\",round(a,3),\"b=\",round(b,3))\n",
        "print(\"a*a=\",round(a**2,3),\"b*b=\",round(b**2,3))\n",
        "qc.ry(2*theta,q[2])\n",
        "\n",
        "# creating an entanglement between q[1] and q[0]\n",
        "qc.h(q[1])\n",
        "qc.cx(q[1],q[0])\n",
        "qc.barrier()\n",
        "\n",
        "# CNOT operator by Asja on her qubits where q[2] is the control qubit\n",
        "qc.cx(q[2],q[1])\n",
        "\n",
        "# Hadamard operator by Asja on q[2]\n",
        "qc.h(q[2])\n",
        "\n",
        "qc.barrier()\n",
        "\n",
        "# the measurement done by Asja\n",
        "qc.measure(q[2],c[2])\n",
        "qc.measure(q[1],c[1])\n",
        "\n",
        "# draw thw circuit\n",
        "display(qc.draw(output='mpl',reverse_bits=True))\n",
        "\n",
        "# read the state vector\n",
        "job = StatevectorSimulator().run(qc,optimization_level=0,shots=1)\n",
        "current_quantum_state=job.result().get_statevector(qc).data\n",
        "print(\"the state vector is\")\n",
        "for i in range(len(current_quantum_state)):\n",
        "    print(current_quantum_state[i].real)\n",
        "print()\n",
        "\n",
        "classical_outcomes = ['00','01','10','11']\n",
        "\n",
        "for i in range(4):\n",
        "    if (current_quantum_state[2*i].real != 0) or (current_quantum_state[2*i+1].real != 0):\n",
        "        print(\"the classical outcome is\",classical_outcomes[i])\n",
        "        classical_outcome = classical_outcomes[i]\n",
        "        balvis_state = [ current_quantum_state[2*i].real,current_quantum_state[2*i+1].real ]\n",
        "print()\n",
        "\n",
        "readable_quantum_state = \"|\"+classical_outcome+\">\"\n",
        "readable_quantum_state += \"(\"+str(round(balvis_state[0],3))+\"|0>+\"+str(round(balvis_state[1],3))+\"|1>)\"\n",
        "print(\"the new quantum state is\",readable_quantum_state,\"\\n\")\n",
        "\n",
        "all_states = ['000','001','010','011','100','101','110','111']\n",
        "\n",
        "balvis_state_str = \"|\"+classical_outcome+\">(\"\n",
        "for i in range(len(current_quantum_state)):\n",
        "    if abs(current_quantum_state[i].real-a)<0.000001:\n",
        "        balvis_state_str += \"+a|\"+ all_states[i][2]+\">\"\n",
        "    elif abs(current_quantum_state[i].real+a)<0.000001:\n",
        "        balvis_state_str += \"-a|\"+ all_states[i][2]+\">\"\n",
        "    elif abs(current_quantum_state[i].real-b)<0.000001:\n",
        "        balvis_state_str += \"+b|\"+ all_states[i][2]+\">\"\n",
        "    elif abs(current_quantum_state[i].real+b)<0.000001:\n",
        "        balvis_state_str += \"-b|\"+ all_states[i][2]+\">\"\n",
        "balvis_state_str += \")\"\n",
        "print(\"the new quantum state is\",balvis_state_str)"
      ],
      "metadata": {
        "id": "b5geYAIVdRV1",
        "colab": {
          "base_uri": "https://localhost:8080/",
          "height": 632
        },
        "outputId": "f6b02a9f-28c3-4864-f55a-d59333ab0925"
      },
      "execution_count": null,
      "outputs": [
        {
          "output_type": "stream",
          "name": "stdout",
          "text": [
            "the picked angle is 302.40000000000003 degrees and 5.277875658030852 radians\n",
            "a= 0.536 b= -0.844\n",
            "a*a= 0.287 b*b= 0.713\n"
          ]
        },
        {
          "output_type": "display_data",
          "data": {
            "text/plain": [
              "<Figure size 789.163x367.889 with 1 Axes>"
            ],
            "image/png": "[encoded data removed]"
          },
          "metadata": {}
        },
        {
          "output_type": "stream",
          "name": "stdout",
          "text": [
            "the state vector is\n",
            "0.0\n",
            "-0.0\n",
            "-0.8443279255020154\n",
            "0.535826794978996\n",
            "0.0\n",
            "0.0\n",
            "0.0\n",
            "0.0\n",
            "\n",
            "the classical outcome is 01\n",
            "\n",
            "the new quantum state is |01>(-0.844|0>+0.536|1>) \n",
            "\n",
            "the new quantum state is |01>(+b|0>+a|1>)\n"
          ]
        }
      ]
    },
    {
      "cell_type": "markdown",
      "source": [
        "### Qiskit Version\n",
        "https://learning.quantum.ibm.com/course/basics-of-quantum-information/entanglement-in-action#teleportation"
      ],
      "metadata": {
        "id": "tn7BqGomFTaG"
      }
    },
    {
      "cell_type": "code",
      "source": [
        "qubit = QuantumRegister(1, \"Q\")\n",
        "ebit0 = QuantumRegister(1, \"A\")\n",
        "ebit1 = QuantumRegister(1, \"B\")\n",
        "a = ClassicalRegister(1, \"a\")\n",
        "b = ClassicalRegister(1, \"b\")\n",
        "\n",
        "protocol = QuantumCircuit(qubit, ebit0, ebit1, a, b)\n",
        "\n",
        "# Prepare ebit used for teleportation\n",
        "protocol.h(ebit0)\n",
        "protocol.cx(ebit0, ebit1)\n",
        "protocol.barrier()\n",
        "\n",
        "# Alice's operations\n",
        "protocol.cx(qubit, ebit0)\n",
        "protocol.h(qubit)\n",
        "protocol.barrier()\n",
        "\n",
        "# Alice measures and sends classical bits to Bob\n",
        "protocol.measure(ebit0, a)\n",
        "protocol.measure(qubit, b)\n",
        "protocol.barrier()\n",
        "\n",
        "# Bob uses the classical bits to conditionally apply gates\n",
        "with protocol.if_test((a, 1)):\n",
        "    protocol.x(ebit1)\n",
        "with protocol.if_test((b, 1)):\n",
        "    protocol.z(ebit1)\n",
        "\n",
        "display(protocol.draw('mpl'))"
      ],
      "metadata": {
        "colab": {
          "base_uri": "https://localhost:8080/",
          "height": 384
        },
        "id": "QvUlmG8-CKej",
        "outputId": "e51a2e96-e02d-4f2e-cf90-2d02853ee26c"
      },
      "execution_count": null,
      "outputs": [
        {
          "output_type": "display_data",
          "data": {
            "text/plain": [
              "<Figure size 1193.19x451.5 with 1 Axes>"
            ],
            "image/png": "[encoded data removed]"
          },
          "metadata": {}
        }
      ]
    },
    {
      "cell_type": "code",
      "source": [
        "random_gate = UGate(theta=random.random() * 2 * pi,phi=random.random() * 2 * pi, lam=random.random() * 2 * pi, label='random_gate')\n",
        "print(random_gate,\"\\n\")\n",
        "\n",
        "display(random_gate.to_matrix())"
      ],
      "metadata": {
        "colab": {
          "base_uri": "https://localhost:8080/",
          "height": 86
        },
        "id": "G_Y1GK3kFNNt",
        "outputId": "223bcbf1-f305-482c-a12a-836d3c0d8cb4"
      },
      "execution_count": null,
      "outputs": [
        {
          "output_type": "stream",
          "name": "stdout",
          "text": [
            "Instruction(name='u', num_qubits=1, num_clbits=0, params=[2.35273401062652, 0.05995019869527729, 5.3698245141955905]) \n",
            "\n"
          ]
        },
        {
          "output_type": "display_data",
          "data": {
            "text/plain": [
              "array([[ 0.38428139+0.j        , -0.56416709+0.73078267j],\n",
              "       [ 0.92155748+0.05531384j,  0.25263312-0.28956639j]])"
            ]
          },
          "metadata": {}
        }
      ]
    },
    {
      "cell_type": "code",
      "source": [
        "# Create a new circuit including the same bits and qubits used in the\n",
        "# teleportation protocol.\n",
        "\n",
        "test = QuantumCircuit(qubit, ebit0, ebit1, a, b)\n",
        "\n",
        "# Start with the randomly selected gate on Q\n",
        "\n",
        "test.append(random_gate, qubit)\n",
        "test.barrier()\n",
        "\n",
        "# Append the entire teleportation protocol from above.\n",
        "\n",
        "test = test.compose(protocol)\n",
        "test.barrier()\n",
        "\n",
        "# Finally, apply the inverse of the random unitary to B and measure.\n",
        "\n",
        "test.append(random_gate.inverse(), ebit1)\n",
        "\n",
        "result = ClassicalRegister(1, \"Result\")\n",
        "test.add_register(result)\n",
        "test.measure(ebit1, result)\n",
        "\n",
        "display(test.draw('mpl'))"
      ],
      "metadata": {
        "colab": {
          "base_uri": "https://localhost:8080/",
          "height": 335
        },
        "id": "_V-FHGt3FdPu",
        "outputId": "b8a5f424-7952-4c94-f215-7911db018f1f"
      },
      "execution_count": null,
      "outputs": [
        {
          "output_type": "display_data",
          "data": {
            "text/plain": [
              "<Figure size 2013.59x535.111 with 1 Axes>"
            ],
            "image/png": "[encoded data removed]"
          },
          "metadata": {}
        }
      ]
    },
    {
      "cell_type": "code",
      "source": [
        "result = AerSimulator().run(test).result()\n",
        "statistics = result.get_counts()\n",
        "display(plot_histogram(statistics))"
      ],
      "metadata": {
        "colab": {
          "base_uri": "https://localhost:8080/",
          "height": 454
        },
        "id": "7dftLMMlFdaJ",
        "outputId": "097790d4-4354-4cea-8954-f769492b4e12"
      },
      "execution_count": null,
      "outputs": [
        {
          "output_type": "display_data",
          "data": {
            "text/plain": [
              "<Figure size 640x480 with 1 Axes>"
            ],
            "image/png": "[encoded data removed]"
          },
          "metadata": {}
        }
      ]
    },
    {
      "cell_type": "code",
      "source": [
        "filtered_statistics = marginal_distribution(statistics, [2])\n",
        "display(plot_histogram(filtered_statistics))"
      ],
      "metadata": {
        "colab": {
          "base_uri": "https://localhost:8080/",
          "height": 429
        },
        "id": "z5_Pk_ePFqEO",
        "outputId": "b4bb2a89-a8d4-4948-9f4c-f3c3ba495422"
      },
      "execution_count": null,
      "outputs": [
        {
          "output_type": "display_data",
          "data": {
            "text/plain": [
              "<Figure size 640x480 with 1 Axes>"
            ],
            "image/png": "[encoded data removed]"
          },
          "metadata": {}
        }
      ]
    }
  ],
  "metadata": {
    "colab": {
      "provenance": [],
      "collapsed_sections": [
        "EiejY7D_VSht",
        "aZvVGXWG4gsK",
        "_mw7k2AF_9-b",
        "gbSXdfb7yAh9"
      ],
      "authorship_tag": "ABX9TyO07Jwwaps/LK3iKE0tKUNx",
      "include_colab_link": true
    },
    "kernelspec": {
      "display_name": "Python 3",
      "name": "python3"
    },
    "language_info": {
      "name": "python"
    }
  },
  "nbformat": 4,
  "nbformat_minor": 0
}